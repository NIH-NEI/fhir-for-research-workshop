{
 "cells": [
  {
   "cell_type": "markdown",
   "metadata": {},
   "source": [
    "# Accessing Patient Data for CDS Systems\n",
    "\n",
    "In this Jupyter notebook, we'll explore how to access and retrieve various types of patient data and make the data usable by a clinical decision support (CDS) tool. We'll mock access data from two services:\n",
    "- An electronic health record (EHR) that hosts a FHIR server\n",
    "- An imaging service that uses its own standard and format to share image data\n",
    "\n",
    "From these services, we will retrieve:\n",
    "- **Basic patient data**, such as name and date of birth.\n",
    "- **Patient conditions**, which provide context for clinical decision-making.\n",
    "- **Patient medication information** to ensure safe treatment plans.\n",
    "- **Relevant patient observations**, specifically hemoglobin A1c levels.\n",
    "- **Eye imagery data**.\n",
    "\n",
    "We'll convert the data into [pandas](https://pandas.pydata.org/) [DataFrames](https://pandas.pydata.org/docs/reference/api/pandas.DataFrame.html), which we'll send to the mock CDS tool."
   ]
  },
  {
   "cell_type": "markdown",
   "metadata": {},
   "source": [
    "## Basic setup\n",
    "\n",
    "Here is the basic setup code for our Python work. We import [pandas](https://pandas.pydata.org/), add the locations of our servers, and add the ID of the synthetic patient whose data we'll access."
   ]
  },
  {
   "cell_type": "code",
   "execution_count": null,
   "metadata": {},
   "outputs": [],
   "source": [
    "import pandas as pd\n",
    "\n",
    "FHIR_SERVER = \"http://hapi.fhir.org/baseR4\"\n",
    "PATIENT_ID = \"685a8c8c-40e8-d40c-477f-2317c5ab7a15\""
   ]
  },
  {
   "cell_type": "markdown",
   "metadata": {},
   "source": [
    "## Accessing the patient data\n",
    "\n",
    "In this demo, we'll access the following information from a FHIR server:\n",
    "- Basic patient data\n",
    "- Patient conditions\n",
    "- Patient medication information\n",
    "- Relevant patient observations\n",
    "- Metadata for the eye imagery\n"
   ]
  },
  {
   "cell_type": "markdown",
   "metadata": {},
   "source": [
    "\n",
    "### Basic Patient Data\n",
    "\n",
    "We'll demonstrate two ways to retrieve data from the FHIR server:\n",
    "\n",
    "1. Using the [SMART FHIR Client](https://github.com/smart-on-fhir/client-py) to retrieve the FHIR resources and [fhirpath.py](https://github.com/beda-software/fhirpath-py) to extract information from the resources.\n",
    "2. Using [FHIR-PYrate](https://github.com/UMEssen/FHIR-PYrate) to both retrieve the FHIR resources and extract information into pandas DataFrames.\n",
    "\n",
    "For the rest of the data, we will use [FHIR-PYrate](https://github.com/UMEssen/FHIR-PYrate)."
   ]
  },
  {
   "cell_type": "markdown",
   "metadata": {},
   "source": [
    "#### 1. Using the [SMART FHIR Client](https://github.com/smart-on-fhir/client-py) and [fhirpath.py](https://github.com/beda-software/fhirpath-py)\n",
    "\n",
    "First, we set up the FHIR Client to query the FHIR Server. **Note**: Because this is a demo FHIR server, we don't need to handle authentication. See the [FHIR Client documentation](https://github.com/smart-on-fhir/client-py) for how to connect to a protected server."
   ]
  },
  {
   "cell_type": "code",
   "execution_count": null,
   "metadata": {},
   "outputs": [],
   "source": [
    "from fhirclient import client\n",
    "\n",
    "settings = {\n",
    "    'app_id': 'my_web_app',\n",
    "    'api_base': FHIR_SERVER\n",
    " }\n",
    "smart = client.FHIRClient(settings=settings)\n"
   ]
  },
  {
   "cell_type": "markdown",
   "metadata": {},
   "source": [
    "Next, we query the server for the patient data."
   ]
  },
  {
   "cell_type": "code",
   "execution_count": null,
   "metadata": {},
   "outputs": [],
   "source": [
    "from fhirclient.models.patient import Patient\n",
    "\n",
    "search = Patient.where({\"identifier\":PATIENT_ID})\n",
    "patients = search.perform_resources(smart.server) # returns list of length=1\n",
    "patient_obj = patients[0].as_json()\n",
    "\n",
    "patient_obj"
   ]
  },
  {
   "cell_type": "markdown",
   "metadata": {},
   "source": [
    "Then, we extract the desired information using [fhirpath.py](https://github.com/beda-software/fhirpath-py). fhirpath.py is a Python library for using [FHIRPath](https://build.fhir.org/fhirpath.html). [FHIRPath](https://build.fhir.org/fhirpath.html) allows you to navigate and extract data in a FHIR resource."
   ]
  },
  {
   "cell_type": "code",
   "execution_count": null,
   "metadata": {},
   "outputs": [],
   "source": [
    "import fhirpathpy\n",
    "\n",
    "patient_info = {\n",
    "    'given_name':fhirpathpy.evaluate(patient_obj, \"Patient.name.where(use='official').given\"),\n",
    "    'family_name':fhirpathpy.evaluate(patient_obj, \"Patient.name.where(use='official').family\"),\n",
    "    'birth_date': fhirpathpy.evaluate(patient_obj, \"Patient.birthDate\")[0],\n",
    "    'ehr_id': fhirpathpy.evaluate(patient_obj, \"Patient.identifier.where(type.coding.system = 'http://terminology.hl7.org/CodeSystem/v2-0203' and type.coding.code = 'MR').value\")[0]\n",
    "}\n",
    "\n",
    "patient_info\n"
   ]
  },
  {
   "cell_type": "markdown",
   "metadata": {},
   "source": [
    "You can also access the data like you would any JSON-based object in Python."
   ]
  },
  {
   "cell_type": "code",
   "execution_count": null,
   "metadata": {},
   "outputs": [],
   "source": [
    "patient_info['fhir_id'] = patient_obj['id']\n",
    "\n",
    "patient_info"
   ]
  },
  {
   "cell_type": "markdown",
   "metadata": {},
   "source": [
    "To add the extracted patient information to a pandas DataFrame, use the `from_dict` method. The `from_dict` method expects a list of dictionaries."
   ]
  },
  {
   "cell_type": "code",
   "execution_count": null,
   "metadata": {},
   "outputs": [],
   "source": [
    "df_patient = pd.DataFrame.from_dict([patient_info])\n",
    "df_patient"
   ]
  },
  {
   "cell_type": "markdown",
   "metadata": {},
   "source": [
    "It can sometimes be useful to see what URL is being requested:"
   ]
  },
  {
   "cell_type": "code",
   "execution_count": null,
   "metadata": {},
   "outputs": [],
   "source": [
    "f'{FHIR_SERVER}/{search.construct()}'"
   ]
  },
  {
   "cell_type": "markdown",
   "metadata": {},
   "source": [
    "You can open ths URL up in your browser, or use a tool like `cURL` to access it directly."
   ]
  },
  {
   "cell_type": "markdown",
   "metadata": {},
   "source": [
    "There is a lot more data in this Patient resource instance than we are viewing in this notebook. It may be helpful to review the FHIR documentation: <https://www.hl7.org/fhir/R4/patient.html>.\n",
    "\n",
    "(Note we are using FHIR R4 for this because that's what is supported by the synthetic data. FHIR R5 has been released, and is the likely default for a web search for \"FHIR Patient resource documentation\".)"
   ]
  },
  {
   "cell_type": "markdown",
   "metadata": {},
   "source": [
    "#### 2. Using [FHIR-PYrate](https://github.com/UMEssen/FHIR-PYrate)\n",
    "\n",
    "[FHIR-PYrate](https://github.com/UMEssen/FHIR-PYrate) lets us import FHIR resources into [pandas](https://pandas.pydata.org/) [DataFrames](https://pandas.pydata.org/docs/reference/api/pandas.DataFrame.html). Because DataFrames are a common format for data analysis in Python, the CDS tool will likely use it.\n",
    "\n",
    "First, we setup the FHIR-PYrate client to query the FHIR server.\n",
    "\n",
    "Because we're using a demo FHIR server, we don't need to authenticate, so we have `auth=None`. See the [FHIR-PYrate documentation](https://github.com/UMEssen/FHIR-PYrate) for how to authenticate to a FHIR server."
   ]
  },
  {
   "cell_type": "code",
   "execution_count": null,
   "metadata": {},
   "outputs": [],
   "source": [
    "from fhir_pyrate import Pirate\n",
    "\n",
    "search = Pirate(\n",
    "    auth=None, # the demo fhir server does not require authentication\n",
    "    base_url=FHIR_SERVER,\n",
    ")"
   ]
  },
  {
   "cell_type": "markdown",
   "metadata": {},
   "source": [
    "`Pirate.steal_bundles` returns a FHIR bundle generator, which you can convert into a dataframe.\n",
    "\n",
    "We need to specify the [FHIR resource](https://build.fhir.org/resourcelist.html) (`resource_type`) type and the [FHIR search parameters](https://www.hl7.org/fhir/search.html) (`request_params`)."
   ]
  },
  {
   "cell_type": "code",
   "execution_count": null,
   "metadata": {},
   "outputs": [],
   "source": [
    "patient_bundle = search.steal_bundles(\n",
    "    resource_type=\"Patient\",\n",
    "    request_params={\"identifier\":PATIENT_ID}\n",
    ")\n",
    "print(patient_bundle)"
   ]
  },
  {
   "cell_type": "markdown",
   "metadata": {},
   "source": [
    "Now we can convert the bundle generator into a DataFrame using `Pirate.bundles_to_dataframe`.\n",
    "\n",
    "We specify the bundle generator we retrieved (`bundles`) and a pairing between the column name and the [FHIRPath](https://build.fhir.org/fhirpath.html) for the information we want to include in that column (`fhir_paths`)."
   ]
  },
  {
   "cell_type": "code",
   "execution_count": null,
   "metadata": {},
   "outputs": [],
   "source": [
    "df_patient = search.bundles_to_dataframe(\n",
    "    bundles=patient_bundle,\n",
    "    fhir_paths=[\n",
    "        (\"given_name\", \"Patient.name.where(use = 'official').given\"),\n",
    "        (\"family_name\", \"Patient.name.where(use = 'official').family\"),\n",
    "        (\"birth_date\", \"Patient.birthDate\"),\n",
    "        (\"fhir_id\", \"Patient.id\"),\n",
    "        (\"ehr_id\", \"Patient.identifier.where(type.coding.system = 'http://terminology.hl7.org/CodeSystem/v2-0203' and type.coding.code = 'MR').value\")\n",
    "    ]\n",
    ")\n",
    "\n",
    "df_patient"
   ]
  },
  {
   "cell_type": "markdown",
   "metadata": {},
   "source": [
    "##### A quicker way\n",
    "FHIR-PYrate provides a shortcut for querying FHIR resources and adding them to DataFrames:\n",
    "`Pirate.steal_bundles_to_dataframe`. This method combines `Pirate.steal_bundles` and `Pirate.bundles_to_dataframe`."
   ]
  },
  {
   "cell_type": "code",
   "execution_count": null,
   "metadata": {},
   "outputs": [],
   "source": [
    "df_patient = search.steal_bundles_to_dataframe(\n",
    "    resource_type=\"Patient\",\n",
    "    request_params={\"identifier\":PATIENT_ID},\n",
    "    fhir_paths=[\n",
    "        (\"given_name\", \"Patient.name.where(use = 'official').given\"),\n",
    "        (\"family_name\", \"Patient.name.where(use = 'official').family\"),\n",
    "        (\"birth_date\", \"Patient.birthDate\"),\n",
    "        (\"fhir_id\", \"Patient.id\"),\n",
    "        (\"ehr_id\", \"Patient.identifier.where(type.coding.system = 'http://terminology.hl7.org/CodeSystem/v2-0203' and type.coding.code = 'MR').value\")\n",
    "    ]\n",
    ")\n",
    "df_patient"
   ]
  },
  {
   "cell_type": "markdown",
   "metadata": {},
   "source": [
    "We'll use `Pirate.steal_bundles_to_dataframe` for the rest of the FHIR resource queries."
   ]
  },
  {
   "cell_type": "markdown",
   "metadata": {},
   "source": [
    "##### Elements with multiple sub-values\n",
    "\n",
    "In many instances, you'll want to extract multiple instances of the same kind of data from a FHIR resource.\n",
    "\n",
    "For example, you may want to extract each identifier of a patient. The demo patient we are using has several identifiers."
   ]
  },
  {
   "cell_type": "code",
   "execution_count": null,
   "metadata": {},
   "outputs": [],
   "source": [
    "df = search.steal_bundles_to_dataframe(\n",
    "    resource_type='Patient',\n",
    "    request_params={\"identifier\":PATIENT_ID},\n",
    "    fhir_paths=[\n",
    "        (\"id\", \"identifier[0].value\"),\n",
    "        (\"identifiers\", \"identifier.value\"),\n",
    "    ])\n",
    "\n",
    "df"
   ]
  },
  {
   "cell_type": "markdown",
   "metadata": {},
   "source": [
    "To convert to separate columns, do the following:"
   ]
  },
  {
   "cell_type": "code",
   "execution_count": null,
   "metadata": {},
   "outputs": [],
   "source": [
    "df.join(\n",
    "    pd.DataFrame(\n",
    "        df.pop('identifiers').values.tolist()\n",
    "    ).add_prefix('identifier_'))"
   ]
  },
  {
   "cell_type": "markdown",
   "metadata": {},
   "source": [
    "### Conditions and Medications\n",
    "\n",
    "We'll repeat the process of using `steal_bundles_to_dataframe` for the patient's conditions and medications.\n",
    "\n",
    "We've added two parameters to our query:\n",
    "- The [`_sort` FHIR search parameter](https://www.hl7.org/fhir/search.html#sort) sorts the results. Use `-` for descending order. The `_sort` value must be one of the search parameters specified in the FHIR server's [Capability Statement](https://build.fhir.org/capabilitystatement.html).\n",
    "- `num_pages` limits the number of pages of resources to return.\n",
    "  - *To limit response sizes, servers may split a response into \"pages\". Many FHIR Servers support paging, and limit each \"page\" to 20 resources. You can specify the number of resources to include in a page with the `_count` parameter.*\n",
    "\n",
    "We also use the internal FHIR ID for the patient (`PATIENT_FHIR_ID`) to cross-reference other FHIR resources."
   ]
  },
  {
   "cell_type": "code",
   "execution_count": null,
   "metadata": {},
   "outputs": [],
   "source": [
    "PATIENT_FHIR_ID = df_patient.at[0, 'fhir_id']\n",
    "\n",
    "df_conditions = search.steal_bundles_to_dataframe(\n",
    "    resource_type=\"Condition\",\n",
    "    request_params={\n",
    "        \"subject\":PATIENT_FHIR_ID,\n",
    "        \"_sort\":\"-onset-date\"\n",
    "    },\n",
    "    fhir_paths=[\n",
    "        (\"coding_system\", \"Condition.code.coding.system\"),\n",
    "        (\"coding_code\", \"Condition.code.coding.code\"),\n",
    "        (\"coding_display\", \"Condition.code.coding.display\"),\n",
    "        (\"id\", \"Condition.id\"),\n",
    "        (\"date\", \"Condition.onsetDateTime\")\n",
    "    ],\n",
    "    num_pages=1\n",
    ")\n",
    "\n",
    "df_conditions"
   ]
  },
  {
   "cell_type": "code",
   "execution_count": null,
   "metadata": {},
   "outputs": [],
   "source": [
    "df_medications = search.steal_bundles_to_dataframe(\n",
    "    resource_type=\"MedicationRequest\",\n",
    "    request_params={\n",
    "        \"subject\":PATIENT_FHIR_ID,\n",
    "        \"_sort\":\"-authoredon\"\n",
    "    },\n",
    "    fhir_paths=[\n",
    "        (\"coding_system\", \"MedicationRequest.medicationCodeableConcept.coding.system\"),\n",
    "        (\"coding_code\", \"MedicationRequest.medicationCodeableConcept.coding.code\"),\n",
    "        (\"coding_display\", \"MedicationRequest.medicationCodeableConcept.coding.display\"),\n",
    "        (\"id\", \"MedicationRequest.id\"),\n",
    "        (\"date\", \"MedicationRequest.authoredOn\"),\n",
    "    ],\n",
    "    num_pages=1\n",
    ")\n",
    "\n",
    "df_medications"
   ]
  },
  {
   "cell_type": "markdown",
   "metadata": {},
   "source": [
    "### Observations\n",
    "\n",
    "Next, we retrieve the observations for the patient. We are only interested in the \"Hemoglobin A1c/Hemoglobin.total in Blood\" (LOINC code: 4548-4) observations, so we add that restriction to the request parameters."
   ]
  },
  {
   "cell_type": "code",
   "execution_count": null,
   "metadata": {},
   "outputs": [],
   "source": [
    "df_observations = search.steal_bundles_to_dataframe(\n",
    "    resource_type=\"Observation\",\n",
    "    request_params={\n",
    "        \"subject\":PATIENT_FHIR_ID,\n",
    "        \"_sort\":\"-date\",\n",
    "        \"code\":\"4548-4\"\n",
    "    },\n",
    "    fhir_paths=[\n",
    "        (\"coding_system\", \"Observation.code.coding.system\"),\n",
    "        (\"coding_code\", \"Observation.code.coding.code\"),\n",
    "        (\"coding_display\", \"Observation.code.coding.display\"),\n",
    "        (\"id\", \"Observation.id\"),\n",
    "        (\"date\", \"Observation.effectiveDateTime\"),\n",
    "        (\"value\", \"Observation.valueQuantity.value\")\n",
    "    ],\n",
    "    num_pages=1\n",
    ")\n",
    "\n",
    "df_observations"
   ]
  },
  {
   "cell_type": "markdown",
   "metadata": {},
   "source": [
    "## Challenges"
   ]
  },
  {
   "cell_type": "markdown",
   "metadata": {},
   "source": [
    "You can try to complete the challenges below.\n",
    "\n",
    "To see a solution for each challenge, un-comment the line with the `%load` magic and run that cell. It will pull in the solution from a separate `.py` file."
   ]
  },
  {
   "cell_type": "code",
   "execution_count": null,
   "metadata": {},
   "outputs": [],
   "source": [
    "# Load magic example\n",
    "# %load ./snippets/challenge_example.py"
   ]
  },
  {
   "cell_type": "markdown",
   "metadata": {},
   "source": [
    "### Challenge 1: Loading All Procedures for a Patient\n",
    "\n",
    "Try loading all Procedure resources for our patient into a DataFrame. Identify some key data elements to include, like the code and description of the procedure, and the date it occurred on."
   ]
  },
  {
   "cell_type": "code",
   "execution_count": null,
   "metadata": {},
   "outputs": [],
   "source": [
    "# Experiment here"
   ]
  },
  {
   "cell_type": "code",
   "execution_count": null,
   "metadata": {},
   "outputs": [],
   "source": [
    "# Un-comment the line below and run the cell to show the solution.\n",
    "# %load ./snippets/challenge_1.py"
   ]
  },
  {
   "cell_type": "markdown",
   "metadata": {},
   "source": [
    "### Challenge 2: FHIR search API\n",
    "\n",
    "Use the FHIR search API (<https://www.hl7.org/fhir/http.html#search>) to get all the patients who have had visual acuity exams.\n",
    "\n",
    "Before you start writing code, answer the following:\n",
    "\n",
    "1. What [FHIR resource](http://hl7.org/fhir/R4/resourcelist.html) represents a visual acuity exam?\n",
    "2. What data element in that resource identifies it as a visual acuity exam?\n",
    "3. What code system and code indicate a visual acuity exam?"
   ]
  },
  {
   "cell_type": "code",
   "execution_count": null,
   "metadata": {},
   "outputs": [],
   "source": [
    "# Un-comment the line below and run the cell to show the answers to these questions.\n",
    "# %load ./snippets/challenge_2.txt"
   ]
  },
  {
   "cell_type": "markdown",
   "metadata": {},
   "source": [
    "Now, construct a FHIR search to find these patients.\n",
    "\n",
    "Hint: see [reverse chaining](https://hl7.org/fhir/search.html#chaining)."
   ]
  },
  {
   "cell_type": "code",
   "execution_count": null,
   "metadata": {},
   "outputs": [],
   "source": [
    "# Experiment here"
   ]
  },
  {
   "cell_type": "code",
   "execution_count": null,
   "metadata": {},
   "outputs": [],
   "source": [
    "# Un-comment the line below and run the cell to show the solution.\n",
    "# %load ./snippets/challenge_2.py"
   ]
  },
  {
   "cell_type": "markdown",
   "metadata": {},
   "source": [
    "### Challenge 3: Search another FHIR server for the same patient\n",
    "\n",
    "See if a patient you found in Challenge 2 exists on another FHIR server.\n",
    "\n",
    "Before you start writing code, answer the following:\n",
    "\n",
    "1. What data elements in [the Patient resource](http://hl7.org/fhir/R4/patient.html) can be used to identify a patient?\n",
    "2. What FHIR search strategy can be used to query the 2nd FHIR server for this information?"
   ]
  },
  {
   "cell_type": "code",
   "execution_count": null,
   "metadata": {},
   "outputs": [],
   "source": [
    "# Un-comment the line below and run the cell to show the answers to these questions.\n",
    "# %load ./snippets/challenge_3.txt"
   ]
  },
  {
   "cell_type": "markdown",
   "metadata": {},
   "source": [
    "Use `https://r4.smarthealthit.org` for the 2nd FHIR server."
   ]
  },
  {
   "cell_type": "code",
   "execution_count": null,
   "metadata": {},
   "outputs": [],
   "source": [
    "# Experiment here"
   ]
  },
  {
   "cell_type": "code",
   "execution_count": null,
   "metadata": {},
   "outputs": [],
   "source": [
    "# Un-comment the line below and run the cell to show the solution.\n",
    "# %load ./snippets/challenge_3.py"
   ]
  },
  {
   "cell_type": "markdown",
   "metadata": {},
   "source": [
    "### Challenge 4: Retrieve a different resource (no solution)\n",
    "\n",
    "Access a FHIR server's [CapabilityStatement](https://www.hl7.org/fhir/capabilitystatement.html) and look for `\"profile:\"` to see the different profiles that are available.\n",
    "\n",
    "Pick one of these for a resource we haven't looked at yet, and retrieve resource instances for that profile."
   ]
  }
 ],
 "metadata": {
  "kernelspec": {
   "display_name": "Python 3 (ipykernel)",
   "language": "python",
   "name": "python3"
  },
  "language_info": {
   "codemirror_mode": {
    "name": "ipython",
    "version": 3
   },
   "file_extension": ".py",
   "mimetype": "text/x-python",
   "name": "python",
   "nbconvert_exporter": "python",
   "pygments_lexer": "ipython3",
   "version": "3.12.3"
  }
 },
 "nbformat": 4,
 "nbformat_minor": 4
}
